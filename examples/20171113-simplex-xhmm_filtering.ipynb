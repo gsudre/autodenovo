{
 "cells": [
  {
   "cell_type": "markdown",
   "metadata": {},
   "source": [
    "Let's play a bit with our current XHM results. First, let's check how the variants we found vary with data quality. We could assume Q=60 like their paper, but it's worth checking how it changes across quality thresholds. Also, let's plot that value per samples, as CCGO samples seemed to have some noise to them:"
   ]
  },
  {
   "cell_type": "code",
   "execution_count": 47,
   "metadata": {},
   "outputs": [],
   "source": [
    "import vcf\n",
    "import numpy as np\n",
    "import matplotlib.pyplot as plt\n",
    "import seaborn as sns\n",
    "\n",
    "%matplotlib inline"
   ]
  },
  {
   "cell_type": "code",
   "execution_count": 71,
   "metadata": {},
   "outputs": [],
   "source": [
    "vcf_reader = vcf.Reader(open('/data/NCR_SBRB/simplex/xhmm/DATA.vcf', 'r'))\n",
    "SQs = {}\n",
    "LQs = {}\n",
    "RQs = {}\n",
    "for sample in vcf_reader.samples:\n",
    "    SQs[sample] = []\n",
    "    LQs[sample] = []\n",
    "    RQs[sample] = []\n",
    "for record in vcf_reader:\n",
    "    for sample in record.samples:\n",
    "        SQs[sample.sample].append(sample.data.SQ)\n",
    "        LQs[sample.sample].append(sample.data.LQ)\n",
    "        RQs[sample.sample].append(sample.data.RQ)"
   ]
  },
  {
   "cell_type": "code",
   "execution_count": 90,
   "metadata": {},
   "outputs": [],
   "source": [
    "quality = np.arange(10, 100, 10)\n",
    "cnvs = np.zeros([len(quality), len(vcf_reader.samples)])\n",
    "for q, qual in enumerate(quality):\n",
    "    qual_prime = qual / 2.0\n",
    "    for s, sample in enumerate(vcf_reader.samples):\n",
    "        some_deletion = np.any(np.array(SQs[sample]) >= qual, axis=1)\n",
    "        good_left = np.any(np.array(LQs[sample]) >= qual_prime, axis=1)\n",
    "        good_right = np.any(np.array(RQs[sample]) >= qual_prime, axis=1)\n",
    "        idx = np.logical_and(some_deletion,\n",
    "                             np.logical_or(good_left, good_right))\n",
    "        cnvs[q, s] = np.sum(idx) "
   ]
  },
  {
   "cell_type": "code",
   "execution_count": 91,
   "metadata": {},
   "outputs": [
    {
     "data": {
      "text/plain": [
       "<matplotlib.axes._subplots.AxesSubplot at 0x2aaafea2c410>"
      ]
     },
     "execution_count": 91,
     "metadata": {},
     "output_type": "execute_result"
    },
    {
     "data": {
      "image/png": "[encoded data removed]",
      "text/plain": [
       "<matplotlib.figure.Figure at 0x2aaafed07650>"
      ]
     },
     "metadata": {},
     "output_type": "display_data"
    }
   ],
   "source": [
    "sns.heatmap(cnvs.T, xticklabels=quality)"
   ]
  },
  {
   "cell_type": "markdown",
   "metadata": {},
   "source": [
    "There doesn't seem to be many outliars, which is good, but Q=60 seems a bit optimistic. We'll need to play with it a bit. Not sure if the control subjects are biasing this... need to look at the papers to see if it's better to run within groups? Before we do that, let's restrict the colors first:"
   ]
  },
  {
   "cell_type": "code",
   "execution_count": 94,
   "metadata": {},
   "outputs": [
    {
     "data": {
      "text/plain": [
       "<matplotlib.axes._subplots.AxesSubplot at 0x2aab0a467350>"
      ]
     },
     "execution_count": 94,
     "metadata": {},
     "output_type": "execute_result"
    },
    {
     "data": {
      "image/png": "[encoded data removed]",
      "text/plain": [
       "<matplotlib.figure.Figure at 0x2aab0a2e6b50>"
      ]
     },
     "metadata": {},
     "output_type": "display_data"
    }
   ],
   "source": [
    "sns.heatmap(cnvs.T, xticklabels=quality, vmax=100)"
   ]
  },
  {
   "cell_type": "markdown",
   "metadata": {},
   "source": [
    "Well, 100 or less CNVs might not be a bad value to start with. Now we need to split which ones are de novo and inherited."
   ]
  },
  {
   "cell_type": "markdown",
   "metadata": {},
   "source": [
    "# TODO:\n",
    "\n",
    "* split CNVs into denovo and inherited\n",
    "* better to run PCA within groups? are controls biasing the results? check literature. might need ot run other tools instead"
   ]
  }
 ],
 "metadata": {
  "kernelspec": {
   "display_name": "Python [default]",
   "language": "python",
   "name": "python2"
  },
  "language_info": {
   "codemirror_mode": {
    "name": "ipython",
    "version": 2
   },
   "file_extension": ".py",
   "mimetype": "text/x-python",
   "name": "python",
   "nbconvert_exporter": "python",
   "pygments_lexer": "ipython2",
   "version": "2.7.13"
  },
  "nav_menu": {},
  "toc": {
   "navigate_menu": true,
   "number_sections": true,
   "sideBar": true,
   "threshold": 6,
   "toc_cell": false,
   "toc_section_display": "block",
   "toc_window_display": false
  }
 },
 "nbformat": 4,
 "nbformat_minor": 2
}
